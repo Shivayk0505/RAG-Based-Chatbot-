{
 "cells": [
  {
   "cell_type": "code",
   "execution_count": 1,
   "metadata": {
    "execution": {
     "iopub.execute_input": "2025-04-15T15:42:04.511615Z",
     "iopub.status.busy": "2025-04-15T15:42:04.511383Z",
     "iopub.status.idle": "2025-04-15T15:42:09.522789Z",
     "shell.execute_reply": "2025-04-15T15:42:09.521731Z",
     "shell.execute_reply.started": "2025-04-15T15:42:04.511594Z"
    },
    "trusted": true
   },
   "outputs": [
    {
     "name": "stdout",
     "output_type": "stream",
     "text": [
      "Collecting youtube_transcript_api\n",
      "  Downloading youtube_transcript_api-1.0.3-py3-none-any.whl.metadata (23 kB)\n",
      "Requirement already satisfied: defusedxml<0.8.0,>=0.7.1 in /usr/local/lib/python3.10/dist-packages (from youtube_transcript_api) (0.7.1)\n",
      "Requirement already satisfied: requests in /usr/local/lib/python3.10/dist-packages (from youtube_transcript_api) (2.32.3)\n",
      "Requirement already satisfied: charset-normalizer<4,>=2 in /usr/local/lib/python3.10/dist-packages (from requests->youtube_transcript_api) (3.4.1)\n",
      "Requirement already satisfied: idna<4,>=2.5 in /usr/local/lib/python3.10/dist-packages (from requests->youtube_transcript_api) (3.10)\n",
      "Requirement already satisfied: urllib3<3,>=1.21.1 in /usr/local/lib/python3.10/dist-packages (from requests->youtube_transcript_api) (2.3.0)\n",
      "Requirement already satisfied: certifi>=2017.4.17 in /usr/local/lib/python3.10/dist-packages (from requests->youtube_transcript_api) (2025.1.31)\n",
      "Downloading youtube_transcript_api-1.0.3-py3-none-any.whl (2.2 MB)\n",
      "\u001b[2K   \u001b[90m━━━━━━━━━━━━━━━━━━━━━━━━━━━━━━━━━━━━━━━━\u001b[0m \u001b[32m2.2/2.2 MB\u001b[0m \u001b[31m25.8 MB/s\u001b[0m eta \u001b[36m0:00:00\u001b[0m00:01\u001b[0m00:01\u001b[0m\n",
      "\u001b[?25hInstalling collected packages: youtube_transcript_api\n",
      "Successfully installed youtube_transcript_api-1.0.3\n"
     ]
    }
   ],
   "source": [
    "!pip install youtube_transcript_api "
   ]
  },
  {
   "cell_type": "code",
   "execution_count": 2,
   "metadata": {
    "execution": {
     "iopub.execute_input": "2025-04-15T15:43:31.289399Z",
     "iopub.status.busy": "2025-04-15T15:43:31.289044Z",
     "iopub.status.idle": "2025-04-15T15:43:55.488461Z",
     "shell.execute_reply": "2025-04-15T15:43:55.487605Z",
     "shell.execute_reply.started": "2025-04-15T15:43:31.289367Z"
    },
    "trusted": true
   },
   "outputs": [
    {
     "name": "stdout",
     "output_type": "stream",
     "text": [
      "[nltk_data] Downloading package punkt to /usr/share/nltk_data...\n",
      "[nltk_data]   Package punkt is already up-to-date!\n"
     ]
    },
    {
     "data": {
      "text/plain": [
       "True"
      ]
     },
     "execution_count": 2,
     "metadata": {},
     "output_type": "execute_result"
    }
   ],
   "source": [
    "import os\n",
    "import torch\n",
    "import spacy\n",
    "import pandas as pd\n",
    "from transformers import pipeline, AutoTokenizer, AutoModel\n",
    "from youtube_transcript_api import YouTubeTranscriptApi\n",
    "from nltk.tokenize import sent_tokenize\n",
    "from urllib.parse import urlparse, parse_qs\n",
    "import nltk\n",
    "nltk.download('punkt')"
   ]
  },
  {
   "cell_type": "code",
   "execution_count": 3,
   "metadata": {
    "execution": {
     "iopub.execute_input": "2025-04-15T15:44:01.311385Z",
     "iopub.status.busy": "2025-04-15T15:44:01.310746Z",
     "iopub.status.idle": "2025-04-15T15:44:28.442233Z",
     "shell.execute_reply": "2025-04-15T15:44:28.441251Z",
     "shell.execute_reply.started": "2025-04-15T15:44:01.311352Z"
    },
    "trusted": true
   },
   "outputs": [
    {
     "name": "stderr",
     "output_type": "stream",
     "text": [
      "No model was supplied, defaulted to sshleifer/distilbart-cnn-12-6 and revision a4f8f3e (https://huggingface.co/sshleifer/distilbart-cnn-12-6).\n",
      "Using a pipeline without specifying a model name and revision in production is not recommended.\n"
     ]
    },
    {
     "data": {
      "application/vnd.jupyter.widget-view+json": {
       "model_id": "fb90cd8a9e2c490cbaa945093cbc47b8",
       "version_major": 2,
       "version_minor": 0
      },
      "text/plain": [
       "config.json:   0%|          | 0.00/1.80k [00:00<?, ?B/s]"
      ]
     },
     "metadata": {},
     "output_type": "display_data"
    },
    {
     "data": {
      "application/vnd.jupyter.widget-view+json": {
       "model_id": "971f2108ad034c708ecd84e4132aff64",
       "version_major": 2,
       "version_minor": 0
      },
      "text/plain": [
       "pytorch_model.bin:   0%|          | 0.00/1.22G [00:00<?, ?B/s]"
      ]
     },
     "metadata": {},
     "output_type": "display_data"
    },
    {
     "data": {
      "application/vnd.jupyter.widget-view+json": {
       "model_id": "d533f979ea604306a2c84503ce6a2b25",
       "version_major": 2,
       "version_minor": 0
      },
      "text/plain": [
       "tokenizer_config.json:   0%|          | 0.00/26.0 [00:00<?, ?B/s]"
      ]
     },
     "metadata": {},
     "output_type": "display_data"
    },
    {
     "data": {
      "application/vnd.jupyter.widget-view+json": {
       "model_id": "80ab397f1f884108bb8acd24d4565f70",
       "version_major": 2,
       "version_minor": 0
      },
      "text/plain": [
       "vocab.json:   0%|          | 0.00/899k [00:00<?, ?B/s]"
      ]
     },
     "metadata": {},
     "output_type": "display_data"
    },
    {
     "data": {
      "application/vnd.jupyter.widget-view+json": {
       "model_id": "e6e92d318e9e41b7881124394ea69849",
       "version_major": 2,
       "version_minor": 0
      },
      "text/plain": [
       "merges.txt:   0%|          | 0.00/456k [00:00<?, ?B/s]"
      ]
     },
     "metadata": {},
     "output_type": "display_data"
    },
    {
     "name": "stderr",
     "output_type": "stream",
     "text": [
      "Device set to use cuda:0\n"
     ]
    }
   ],
   "source": [
    "# Abstractive summarizer\n",
    "summarizer = pipeline('summarization')\n",
    "\n",
    "def extract_video_id(url):\n",
    "    parsed_url = urlparse(url)\n",
    "    if parsed_url.netloc == \"youtu.be\":\n",
    "        return parsed_url.path[1:]\n",
    "    elif \"youtube.com\" in parsed_url.netloc:\n",
    "        return parse_qs(parsed_url.query).get(\"v\", [None])[0]\n",
    "    return None\n",
    "\n",
    "def get_transcript(video_id):\n",
    "    try:\n",
    "        transcript_list = YouTubeTranscriptApi.get_transcript(video_id)\n",
    "        return ' '.join([d['text'] for d in transcript_list])\n",
    "    except Exception as e:\n",
    "        print(\"Error:\", e)\n",
    "        return None\n",
    "\n",
    "def abstractive_summarization(transcript, max_length=150):\n",
    "    summary = ''\n",
    "    for i in range(0, max(1, len(transcript)//1000 + 1)):\n",
    "        chunk = transcript[i * 1000:(i+1) * 1000]\n",
    "        summary += summarizer(chunk, max_length=max_length)[0]['summary_text'] + ' '\n",
    "    return summary.strip()"
   ]
  },
  {
   "cell_type": "code",
   "execution_count": null,
   "metadata": {
    "trusted": true
   },
   "outputs": [],
   "source": [
    "#https://youtu.be/ZhAz268Hdpw  --- Transformers\n",
    "#https://youtu.be/S7YoP9JFtJo --- fault_analysis\n",
    "#https://youtu.be/ELOEyh086DQ?si=HTVwpQRyQum2B9Bw ---- praveen"
   ]
  },
  {
   "cell_type": "code",
   "execution_count": 4,
   "metadata": {
    "execution": {
     "iopub.execute_input": "2025-04-15T15:45:19.982006Z",
     "iopub.status.busy": "2025-04-15T15:45:19.981688Z",
     "iopub.status.idle": "2025-04-15T15:45:20.783067Z",
     "shell.execute_reply": "2025-04-15T15:45:20.782201Z",
     "shell.execute_reply.started": "2025-04-15T15:45:19.981983Z"
    },
    "trusted": true
   },
   "outputs": [],
   "source": [
    "video_url = \"https://youtu.be/ELOEyh086DQ?si=HTVwpQRyQum2B9Bw\"\n",
    "video_id = extract_video_id(video_url)\n",
    "\n",
    "if not video_id:\n",
    "    print(\"Invalid YouTube URL\")\n",
    "else:\n",
    "    transcript = get_transcript(video_id)\n"
   ]
  },
  {
   "cell_type": "code",
   "execution_count": 5,
   "metadata": {
    "execution": {
     "iopub.execute_input": "2025-04-15T15:51:47.252390Z",
     "iopub.status.busy": "2025-04-15T15:51:47.252043Z",
     "iopub.status.idle": "2025-04-15T15:51:47.256798Z",
     "shell.execute_reply": "2025-04-15T15:51:47.255951Z",
     "shell.execute_reply.started": "2025-04-15T15:51:47.252362Z"
    },
    "trusted": true
   },
   "outputs": [
    {
     "name": "stdout",
     "output_type": "stream",
     "text": [
      "38601\n"
     ]
    }
   ],
   "source": [
    "print(len(transcript))"
   ]
  },
  {
   "cell_type": "code",
   "execution_count": 7,
   "metadata": {
    "execution": {
     "iopub.execute_input": "2025-04-15T16:20:11.559833Z",
     "iopub.status.busy": "2025-04-15T16:20:11.559476Z",
     "iopub.status.idle": "2025-04-15T16:20:35.597937Z",
     "shell.execute_reply": "2025-04-15T16:20:35.597247Z",
     "shell.execute_reply.started": "2025-04-15T16:20:11.559807Z"
    },
    "trusted": true
   },
   "outputs": [
    {
     "name": "stderr",
     "output_type": "stream",
     "text": [
      "You seem to be using the pipelines sequentially on GPU. In order to maximize efficiency please use a dataset\n",
      "Your max_length is set to 150, but your input_length is only 143. Since this is a summarization task, where outputs shorter than the input are typically wanted, you might consider decreasing max_length manually, e.g. summarizer('...', max_length=71)\n"
     ]
    }
   ],
   "source": [
    "summary = abstractive_summarization(transcript, max_length=150)"
   ]
  },
  {
   "cell_type": "code",
   "execution_count": 10,
   "metadata": {
    "execution": {
     "iopub.execute_input": "2025-04-15T16:21:06.082300Z",
     "iopub.status.busy": "2025-04-15T16:21:06.082017Z",
     "iopub.status.idle": "2025-04-15T16:21:06.087256Z",
     "shell.execute_reply": "2025-04-15T16:21:06.086591Z",
     "shell.execute_reply.started": "2025-04-15T16:21:06.082278Z"
    },
    "trusted": true
   },
   "outputs": [
    {
     "data": {
      "text/plain": [
       "\"Hello friends. Ah today, we are going to uhdiscuss about ah crystal planes and directions, ah how we can index them ah and in hexagonal system cubic system and so on and what is the procedure of indexing . So, basically if you want to make a uh a can, for example, beverage cans the Coca-Cola or Pepsi cans which you use are all deep drawing ah made by deep drawing operation and .  There will be because there are different type of deformation at different part of the cup, ah you will have thinning of material at certain point and at another point there will be a thick sheet . So, which is not a good thing and we will not be able to design any of our part properly if there is thickness difference .  In bcc materials or bcc crystals, 1 0 0 direction is the easy magnetization direction; that means, you can easily have magnetization and you can understand 50 times, it has to .magnetize demagnetize . So, with each cycle, there will be a hysteresis loop and for in each hystereresis . loop, there is loss of ah energy ok. So, there are losses in the in the distribution .  Some planes and directions are preferred or where the deformation actually takes place in those particular planes in a particular direction . So that my losses can be minimized and of course, heating of the transformer can also be minimized ok . So, that uh is what is this particular lecture is about how to index planes and direction .  William Miller in 1839, he proposed a system how you can index, these planes and directions . He said u v w can be the name and if you enclose them in a square bracket like which is shown here, then it will be ah direction that is shown .  A cubic crystal is a unit cell of a cubic crystal and a cubic cubic crystal . So, any vector which is passing through a coordinate point, let us say u v w, is a vector r . Principal directions will be along a, b and c, and principal directions are x, v, v and v .  If a vector or direction is not starting or passing through the origin, you reposition it to find its projection lengths . This is how you can give the indexing that if this is the u v w, then my indexing of this particular direction is given . So, in the next slide, I will give you this algorithm for indexing this .  Miller suggested that you can have integers instead of fractions . So, the fractions will be converted to lowest-in-integer values by multi-plying by a common factor . Whatever you get you will be enclosed in a square bracket u v w without commas . The algorithm for this is the whole algorithm for finding out the direction .  Ake the unit cell here for a cubic crystal ok, we will take mostly the example of cubic crystals . So, again as we saw that you have to do see that how I am going in these 3 different directions ok . You just want to understand whether , how . how I can do the . indexing of this particular . direction .  The indexing of this particular direction is 0 1 1 ok . So, let us say, we take another complicated and by the way, this is this particular one is called face diagonal . For this, for this I have I cannot go in a direction . I will be going in b direction ok, one unit is one unit and I will reach there .  The indexing will be 1 1 1 and this is what we call as body diagonal . So, I will be going one unit in a direction one unit of a direction, one in b direction one in c direction and one in all direction. So, let us see if we have fraction instead of unit length.  The common factor here is 2 if I multiply the whole thing by 2 ok, then I can get rid of this fraction here . So, fraction also you can easily handle whatever you do not like fractions . The thing you have to remember is that it has to be for the whole calculation. It should be the you should get the lowest integers .  The path we have to trace that is what we are seeing here . So, in all these cases we have gone negative negative negative . The from from from origin start of the . direction to the end of the direction we have . to that to reach that to . the end point. So, how to write this?  There can be even multiple ways of finding out the direction of a plane in multiple directions to find out the indexing for there we will do the assignments . So, if you have a if you are going . along a negative direction then you have to put bar one bar . one bar one to get the direction. e this I will put bar over the number if it is negative one .  We will take reciprocal of the intercepts after taking the reciprocal if there are any discrepancies . If plane is passing through the origin, then we will have a problem because we cannot have an intercept, then you can take a parallelplane of that particular plane or you can shift the origin itself keeping the sense of crystal axis .  The intercepts on the ah on this particular ah directions are at infinity . So, if I want to write the intercepts in case of a there is no intercept, there will be no intercept on c . The intercept is at infinity because both the plane and the direction of the plane are different .  This is why we are taking reciprocalhere in case of planes ok because we again do not like uh this concept of infinity . So, the the business of taking this reciprocal in the case of plane is just to get rid of this infinity . This infinity becomes 0; obviously, one will remain one and again this infinity becomes0 .  The plane is a parallel plane to this, but the problem is it is passing through origin now how to find out the intercept . So, very quickly you can do very quickly that if I want to know for this plane we have already seen, let me again draw ahophobic another plane like this .  The origin is arbitrary and you can put origin anywhere at this point . So, let us say I I am not happy with this origin I have put the origin at this lattice point, but as I told you in the ah last ah ah statement here that I will still keep the same direction .  The idea is to find the indexing of some of the important planes like cubic crystal because that is what is going to come later on . So, let us say, I am interested in a plane like this, it is going like this a plane, it will be infinity minus one and then I will take the reciprocal .  The intercepts are parallel to the a axis, so intercept at the a will be at infinity . So, intercepts at the b will be 1 in the b . One intercept of 1 in c. will be 0 1 1 in a plane like this . We will take the reciprocal of these values . You are getting the fractions here .  There is another concept called family of directions and family of planes . So, for example, we said this crystal x is a, b and a, a, p and a and p direction . We will take the reciprocal first and multiply by that common factor to get the integer values here .  The family of direction is shown by a family of directions . The length of each of this vector is the length of the vector they are a part of the same family . So, to represent this, I can represent this whole thing you I do not have to write it like this . It represents all the six directions you have shown .  For for a property it does not matter whether it is 1 0 0, 0 1 0 or 0 0 0 1, all are same . So, I can just represent them by a family of directions . Similarly, in case of planes also we can represent planes as positive directions with origin .  Plane indexing will be given as h k i l where I is related to h and k like this, I is equal to minus of h plus k and direction will be u v  direction . Plane indices will be like this and plane indexing is a 4 index system . Plane distances is inter atomic distances is same for all these planes .  Instead of following 3 indexing system we will follow the 4 index system . So, ah now the question is why why why we want to uh do this kind of thing? So, let us see if you have ah we do do not follow this Miller-Bravais system, we will still follow the older the one which we have already discussed .  The indexing for this particular plane will be it is parallel to 0 ah a 1 direction cutting a 2 at one and a 2 direction cutting at one . So, there is it it is going to cut at infinity you taking reciprocal will give me the indexing is 0 ok . Now, you compare this with the our cube one ok .  These are all prismatic planes have the same indexing system but when I use the 3 indexing . system . They were showing different indexing systems . That means, there is some problem here ok . That problem can be rectified if I find out the intercept in all the 3 direction all the 4 directions .  In a it will be 0 a 2 a here a 1 at the negative ok , but now we will consider the third one also a 3 it is parallel to a 3, you can see this particular plane is parallel . So, for this one I will write it is bar 1 one 0 0 .  The indexing remains same as we have already seen in the earlier case . So, if you want to draw different planes in the hexagonal system, you can't do that for example, this ah you have to start drawing quickly ok . Having different indexing for the same type of plane they all now look similar to to each other .  We are interested in a plane like this ok. 2 here a 1 here and let us say it is making an intercept here . So, maybe something like this is like this? So, if you do a little bit trigonometry here you will find out that it is cutting at half of the plane. So, in terms of ah the how the how to write this .  There are some funny things which are happening here, for example, if you try to follow the what we did in case of . indexing system for planes . For example, when we were using Miller indexing . system it was given like this where 1 0 0 for a to be it was uh 0 ah0 1 0 c, it was 0 0 1 0 . But it is not like that actually if you see in the . process the a 1 is 2 bar 1 bar 1 0 that that that is the indexing. That means, that means, 'I have to go 2 units'  There are relations which are given here to do the indexing system . So, every time to find out that how to go in all these 3 . or all in this 4 . indexing . system becomes very difficult . so, what we do is we do it in 3 indexing systems and then we convert it into 4 . indexes .  2, this is a 3 ok let us suppose we index a 1 using the worth ah 3 indexing system . So, sorry, a 3 I draw wrongly a 3 will go here . A 1 will be 1 0 0 . From that system it will be 0 0 the u v. w w is w is 0 because the last one is 0 .  The 0 1 0 0 the a 1 x is should be 2 bar 1 bar 1 0 ok and this you can do for any direction . So, in 3 indexing system I will write this in the negative a 1 direction . Negative a to c will give you get me to the end point of this particular direction .  U is 1 by 3 2 u minus v is 2 minus one minus 0.0 and that comes to minus 2 by 3 ok v is equal to again one by 3 it is minus u . So, for this one ah I will be ah to starting from a 1 direction then a 2 and then c .  Indexing system will be in 3 indexing system it will be ah positive in a 1 positive one . Then again a 2 positive one and in c, again a . positive one, again again, again in c. s, then I will be going along this to get to the final point ok . So, let us write it there it is 1 by 3 minus 2 by 3 . Then t will be equal to minus of u plus. of u .  A 3 apositive is this direction . So, a 2 negative of that will be ah. So, 2 negative in a 3 . A 2 negative will be that direction . A 3 negative is this way . A 1 negative is a negative . A negative is 2 negative .  If we understand that we will be able to do a good job of indexing and direction . And you will start getting the ah ah picture or visualization of the ah when we say certain plane. e and ah ah . So, thank you very much for the your patience .\""
      ]
     },
     "execution_count": 10,
     "metadata": {},
     "output_type": "execute_result"
    }
   ],
   "source": [
    "summary"
   ]
  },
  {
   "cell_type": "code",
   "execution_count": 14,
   "metadata": {
    "execution": {
     "iopub.execute_input": "2025-04-15T16:23:02.578998Z",
     "iopub.status.busy": "2025-04-15T16:23:02.578693Z",
     "iopub.status.idle": "2025-04-15T16:23:02.587908Z",
     "shell.execute_reply": "2025-04-15T16:23:02.587099Z",
     "shell.execute_reply.started": "2025-04-15T16:23:02.578975Z"
    },
    "trusted": true
   },
   "outputs": [
    {
     "name": "stdout",
     "output_type": "stream",
     "text": [
      "[nltk_data] Downloading package punkt to /usr/share/nltk_data...\n",
      "[nltk_data]   Package punkt is already up-to-date!\n"
     ]
    }
   ],
   "source": [
    "import nltk\n",
    "nltk.download('punkt')\n",
    "from nltk.tokenize import sent_tokenize\n",
    "\n",
    "# def chunk_text_by_length(text, max_length=350):\n",
    "#     chunks = []\n",
    "#     for i in range(0, len(text), max_length):\n",
    "#         chunk = text[i:i+max_length]\n",
    "#         chunks.append(chunk.strip())\n",
    "#     return chunks\n",
    "\n",
    "transcript_chunks = sent_tokenize(summary)"
   ]
  },
  {
   "cell_type": "code",
   "execution_count": 15,
   "metadata": {
    "execution": {
     "iopub.execute_input": "2025-04-15T16:23:08.798005Z",
     "iopub.status.busy": "2025-04-15T16:23:08.797711Z",
     "iopub.status.idle": "2025-04-15T16:23:08.803105Z",
     "shell.execute_reply": "2025-04-15T16:23:08.802252Z",
     "shell.execute_reply.started": "2025-04-15T16:23:08.797982Z"
    },
    "trusted": true
   },
   "outputs": [
    {
     "data": {
      "text/plain": [
       "144"
      ]
     },
     "execution_count": 15,
     "metadata": {},
     "output_type": "execute_result"
    }
   ],
   "source": [
    "len(transcript_chunks)"
   ]
  },
  {
   "cell_type": "code",
   "execution_count": 16,
   "metadata": {
    "execution": {
     "iopub.execute_input": "2025-04-15T16:23:13.824660Z",
     "iopub.status.busy": "2025-04-15T16:23:13.824296Z",
     "iopub.status.idle": "2025-04-15T16:23:18.393015Z",
     "shell.execute_reply": "2025-04-15T16:23:18.392143Z",
     "shell.execute_reply.started": "2025-04-15T16:23:13.824631Z"
    },
    "trusted": true
   },
   "outputs": [
    {
     "name": "stdout",
     "output_type": "stream",
     "text": [
      "Collecting pdfplumber\n",
      "  Downloading pdfplumber-0.11.6-py3-none-any.whl.metadata (42 kB)\n",
      "\u001b[2K     \u001b[90m━━━━━━━━━━━━━━━━━━━━━━━━━━━━━━━━━━━━━━━━\u001b[0m \u001b[32m42.8/42.8 kB\u001b[0m \u001b[31m1.7 MB/s\u001b[0m eta \u001b[36m0:00:00\u001b[0m\n",
      "\u001b[?25hCollecting pdfminer.six==20250327 (from pdfplumber)\n",
      "  Downloading pdfminer_six-20250327-py3-none-any.whl.metadata (4.1 kB)\n",
      "Requirement already satisfied: Pillow>=9.1 in /usr/local/lib/python3.10/dist-packages (from pdfplumber) (11.0.0)\n",
      "Collecting pypdfium2>=4.18.0 (from pdfplumber)\n",
      "  Downloading pypdfium2-4.30.1-py3-none-manylinux_2_17_x86_64.manylinux2014_x86_64.whl.metadata (48 kB)\n",
      "\u001b[2K     \u001b[90m━━━━━━━━━━━━━━━━━━━━━━━━━━━━━━━━━━━━━━━━\u001b[0m \u001b[32m48.2/48.2 kB\u001b[0m \u001b[31m3.9 MB/s\u001b[0m eta \u001b[36m0:00:00\u001b[0m\n",
      "\u001b[?25hRequirement already satisfied: charset-normalizer>=2.0.0 in /usr/local/lib/python3.10/dist-packages (from pdfminer.six==20250327->pdfplumber) (3.4.1)\n",
      "Requirement already satisfied: cryptography>=36.0.0 in /usr/local/lib/python3.10/dist-packages (from pdfminer.six==20250327->pdfplumber) (44.0.1)\n",
      "Requirement already satisfied: cffi>=1.12 in /usr/local/lib/python3.10/dist-packages (from cryptography>=36.0.0->pdfminer.six==20250327->pdfplumber) (1.17.1)\n",
      "Requirement already satisfied: pycparser in /usr/local/lib/python3.10/dist-packages (from cffi>=1.12->cryptography>=36.0.0->pdfminer.six==20250327->pdfplumber) (2.22)\n",
      "Downloading pdfplumber-0.11.6-py3-none-any.whl (60 kB)\n",
      "\u001b[2K   \u001b[90m━━━━━━━━━━━━━━━━━━━━━━━━━━━━━━━━━━━━━━━━\u001b[0m \u001b[32m60.2/60.2 kB\u001b[0m \u001b[31m4.0 MB/s\u001b[0m eta \u001b[36m0:00:00\u001b[0m\n",
      "\u001b[?25hDownloading pdfminer_six-20250327-py3-none-any.whl (5.6 MB)\n",
      "\u001b[2K   \u001b[90m━━━━━━━━━━━━━━━━━━━━━━━━━━━━━━━━━━━━━━━━\u001b[0m \u001b[32m5.6/5.6 MB\u001b[0m \u001b[31m57.6 MB/s\u001b[0m eta \u001b[36m0:00:00\u001b[0ma \u001b[36m0:00:01\u001b[0m\n",
      "\u001b[?25hDownloading pypdfium2-4.30.1-py3-none-manylinux_2_17_x86_64.manylinux2014_x86_64.whl (2.9 MB)\n",
      "\u001b[2K   \u001b[90m━━━━━━━━━━━━━━━━━━━━━━━━━━━━━━━━━━━━━━━━\u001b[0m \u001b[32m2.9/2.9 MB\u001b[0m \u001b[31m89.8 MB/s\u001b[0m eta \u001b[36m0:00:00\u001b[0m\n",
      "\u001b[?25hInstalling collected packages: pypdfium2, pdfminer.six, pdfplumber\n",
      "Successfully installed pdfminer.six-20250327 pdfplumber-0.11.6 pypdfium2-4.30.1\n"
     ]
    }
   ],
   "source": [
    "!pip install pdfplumber"
   ]
  },
  {
   "cell_type": "markdown",
   "metadata": {},
   "source": [
    "## PDF Extraction"
   ]
  },
  {
   "cell_type": "code",
   "execution_count": 17,
   "metadata": {
    "execution": {
     "iopub.execute_input": "2025-04-15T16:23:20.309011Z",
     "iopub.status.busy": "2025-04-15T16:23:20.308663Z",
     "iopub.status.idle": "2025-04-15T16:23:20.365580Z",
     "shell.execute_reply": "2025-04-15T16:23:20.364743Z",
     "shell.execute_reply.started": "2025-04-15T16:23:20.308981Z"
    },
    "trusted": true
   },
   "outputs": [],
   "source": [
    "import os\n",
    "import pdfplumber\n",
    "\n",
    "def extract_text_from_pdf(pdf_path):\n",
    "    \"\"\"Extract text from a single PDF.\"\"\"\n",
    "    text = \"\"\n",
    "    with pdfplumber.open(pdf_path) as pdf:\n",
    "        for page in pdf.pages:\n",
    "            text += page.extract_text() + \"\\n\"\n",
    "    return text.strip()"
   ]
  },
  {
   "cell_type": "code",
   "execution_count": 18,
   "metadata": {
    "execution": {
     "iopub.execute_input": "2025-04-15T16:23:23.586817Z",
     "iopub.status.busy": "2025-04-15T16:23:23.586421Z",
     "iopub.status.idle": "2025-04-15T16:23:24.839558Z",
     "shell.execute_reply": "2025-04-15T16:23:24.838652Z",
     "shell.execute_reply.started": "2025-04-15T16:23:23.586789Z"
    },
    "trusted": true
   },
   "outputs": [],
   "source": [
    "pdf_path =\"/kaggle/input/evaluation-data-3/praveen1.pdf\"\n",
    "text = extract_text_from_pdf(pdf_path)"
   ]
  },
  {
   "cell_type": "code",
   "execution_count": 19,
   "metadata": {
    "execution": {
     "iopub.execute_input": "2025-04-15T16:23:27.699953Z",
     "iopub.status.busy": "2025-04-15T16:23:27.699647Z",
     "iopub.status.idle": "2025-04-15T16:23:27.705329Z",
     "shell.execute_reply": "2025-04-15T16:23:27.704584Z",
     "shell.execute_reply.started": "2025-04-15T16:23:27.699930Z"
    },
    "trusted": true
   },
   "outputs": [
    {
     "data": {
      "text/plain": [
       "29491"
      ]
     },
     "execution_count": 19,
     "metadata": {},
     "output_type": "execute_result"
    }
   ],
   "source": [
    "len(text)"
   ]
  },
  {
   "cell_type": "code",
   "execution_count": 20,
   "metadata": {
    "execution": {
     "iopub.execute_input": "2025-04-15T16:23:30.855748Z",
     "iopub.status.busy": "2025-04-15T16:23:30.855421Z",
     "iopub.status.idle": "2025-04-15T16:23:31.090539Z",
     "shell.execute_reply": "2025-04-15T16:23:31.089676Z",
     "shell.execute_reply.started": "2025-04-15T16:23:30.855724Z"
    },
    "trusted": true
   },
   "outputs": [
    {
     "name": "stdout",
     "output_type": "stream",
     "text": [
      "[nltk_data] Downloading package punkt to /usr/share/nltk_data...\n",
      "[nltk_data]   Package punkt is already up-to-date!\n",
      "[nltk_data] Downloading package punkt_tab to /usr/share/nltk_data...\n",
      "[nltk_data]   Unzipping tokenizers/punkt_tab.zip.\n"
     ]
    }
   ],
   "source": [
    "import nltk\n",
    "nltk.download(\"punkt\")\n",
    "nltk.download('punkt_tab')\n",
    "from nltk.tokenize import sent_tokenize\n",
    "\n",
    "pdf_chunks = sent_tokenize(text)"
   ]
  },
  {
   "cell_type": "code",
   "execution_count": 21,
   "metadata": {
    "execution": {
     "iopub.execute_input": "2025-04-15T16:23:33.811831Z",
     "iopub.status.busy": "2025-04-15T16:23:33.811479Z",
     "iopub.status.idle": "2025-04-15T16:23:33.816762Z",
     "shell.execute_reply": "2025-04-15T16:23:33.815912Z",
     "shell.execute_reply.started": "2025-04-15T16:23:33.811806Z"
    },
    "trusted": true
   },
   "outputs": [
    {
     "data": {
      "text/plain": [
       "215"
      ]
     },
     "execution_count": 21,
     "metadata": {},
     "output_type": "execute_result"
    }
   ],
   "source": [
    "len(pdf_chunks)"
   ]
  },
  {
   "cell_type": "code",
   "execution_count": 22,
   "metadata": {
    "execution": {
     "iopub.execute_input": "2025-04-15T16:23:38.148357Z",
     "iopub.status.busy": "2025-04-15T16:23:38.148035Z",
     "iopub.status.idle": "2025-04-15T16:23:38.152008Z",
     "shell.execute_reply": "2025-04-15T16:23:38.151092Z",
     "shell.execute_reply.started": "2025-04-15T16:23:38.148329Z"
    },
    "trusted": true
   },
   "outputs": [],
   "source": [
    "pdf_chunks.extend(transcript_chunks)"
   ]
  },
  {
   "cell_type": "code",
   "execution_count": 23,
   "metadata": {
    "execution": {
     "iopub.execute_input": "2025-04-15T16:23:40.490855Z",
     "iopub.status.busy": "2025-04-15T16:23:40.490408Z",
     "iopub.status.idle": "2025-04-15T16:23:40.495827Z",
     "shell.execute_reply": "2025-04-15T16:23:40.495053Z",
     "shell.execute_reply.started": "2025-04-15T16:23:40.490743Z"
    },
    "trusted": true
   },
   "outputs": [
    {
     "data": {
      "text/plain": [
       "359"
      ]
     },
     "execution_count": 23,
     "metadata": {},
     "output_type": "execute_result"
    }
   ],
   "source": [
    "len(pdf_chunks)"
   ]
  },
  {
   "cell_type": "code",
   "execution_count": 32,
   "metadata": {
    "execution": {
     "iopub.execute_input": "2025-04-15T16:58:04.797136Z",
     "iopub.status.busy": "2025-04-15T16:58:04.796850Z",
     "iopub.status.idle": "2025-04-15T16:58:04.800661Z",
     "shell.execute_reply": "2025-04-15T16:58:04.799895Z",
     "shell.execute_reply.started": "2025-04-15T16:58:04.797115Z"
    },
    "trusted": true
   },
   "outputs": [],
   "source": [
    "total_text = text+summary"
   ]
  },
  {
   "cell_type": "code",
   "execution_count": 33,
   "metadata": {
    "execution": {
     "iopub.execute_input": "2025-04-15T16:58:07.054618Z",
     "iopub.status.busy": "2025-04-15T16:58:07.054283Z",
     "iopub.status.idle": "2025-04-15T16:58:08.996663Z",
     "shell.execute_reply": "2025-04-15T16:58:08.995758Z",
     "shell.execute_reply.started": "2025-04-15T16:58:07.054592Z"
    },
    "trusted": true
   },
   "outputs": [],
   "source": [
    "import spacy\n",
    "from spacy.language import Language\n",
    "\n",
    "nlp = spacy.load(\"en_core_web_sm\")\n",
    "\n",
    "@Language.component(\"set_custom_boundaries\")\n",
    "def set_custom_boundaries(doc):\n",
    "    for token in doc[:-1]:\n",
    "        if token.text == \":\":\n",
    "            doc[token.i+1].is_sent_start = True\n",
    "    return doc\n",
    "\n",
    "nlp.add_pipe(\"set_custom_boundaries\", before=\"parser\")\n",
    "doc = nlp(total_text)\n",
    "sentences2 = []\n",
    "for sent in doc.sents:\n",
    "    sentences2.append(sent)"
   ]
  },
  {
   "cell_type": "code",
   "execution_count": null,
   "metadata": {
    "trusted": true
   },
   "outputs": [],
   "source": []
  },
  {
   "cell_type": "code",
   "execution_count": 34,
   "metadata": {
    "execution": {
     "iopub.execute_input": "2025-04-15T16:58:32.011284Z",
     "iopub.status.busy": "2025-04-15T16:58:32.010998Z",
     "iopub.status.idle": "2025-04-15T16:58:32.016784Z",
     "shell.execute_reply": "2025-04-15T16:58:32.016007Z",
     "shell.execute_reply.started": "2025-04-15T16:58:32.011262Z"
    },
    "trusted": true
   },
   "outputs": [
    {
     "data": {
      "text/plain": [
       "401"
      ]
     },
     "execution_count": 34,
     "metadata": {},
     "output_type": "execute_result"
    }
   ],
   "source": [
    "len(sentences2)"
   ]
  },
  {
   "cell_type": "code",
   "execution_count": 24,
   "metadata": {
    "execution": {
     "iopub.execute_input": "2025-04-15T16:23:42.721838Z",
     "iopub.status.busy": "2025-04-15T16:23:42.721458Z",
     "iopub.status.idle": "2025-04-15T16:23:42.727186Z",
     "shell.execute_reply": "2025-04-15T16:23:42.726248Z",
     "shell.execute_reply.started": "2025-04-15T16:23:42.721809Z"
    },
    "trusted": true
   },
   "outputs": [
    {
     "data": {
      "text/plain": [
       "list"
      ]
     },
     "execution_count": 24,
     "metadata": {},
     "output_type": "execute_result"
    }
   ],
   "source": [
    "type(pdf_chunks)"
   ]
  },
  {
   "cell_type": "markdown",
   "metadata": {},
   "source": [
    "## Semantic Chunking"
   ]
  },
  {
   "cell_type": "code",
   "execution_count": 42,
   "metadata": {
    "execution": {
     "iopub.execute_input": "2025-04-15T17:05:34.809730Z",
     "iopub.status.busy": "2025-04-15T17:05:34.809387Z",
     "iopub.status.idle": "2025-04-15T17:05:35.764804Z",
     "shell.execute_reply": "2025-04-15T17:05:35.764110Z",
     "shell.execute_reply.started": "2025-04-15T17:05:34.809707Z"
    },
    "trusted": true
   },
   "outputs": [
    {
     "name": "stdout",
     "output_type": "stream",
     "text": [
      "[nltk_data] Downloading package punkt to /usr/share/nltk_data...\n",
      "[nltk_data]   Package punkt is already up-to-date!\n"
     ]
    },
    {
     "data": {
      "application/vnd.jupyter.widget-view+json": {
       "model_id": "a4362a720d4a499992f95d0f1dbccd77",
       "version_major": 2,
       "version_minor": 0
      },
      "text/plain": [
       "Batches:   0%|          | 0/12 [00:00<?, ?it/s]"
      ]
     },
     "metadata": {},
     "output_type": "display_data"
    }
   ],
   "source": [
    "from sentence_transformers import SentenceTransformer\n",
    "from sklearn.metrics.pairwise import cosine_similarity\n",
    "import numpy as np\n",
    "import nltk\n",
    "\n",
    "nltk.download('punkt')\n",
    "from nltk.tokenize import sent_tokenize\n",
    "# sentences = sent_tokenize(all_text)\n",
    "\n",
    "sentences = pdf_chunks\n",
    "# sentences = sentences2\n",
    "\n",
    "for i in sentences:\n",
    "  if i==\".\":\n",
    "    sentences.remove(i)\n",
    "n=len(sentences)\n",
    "\n",
    "# Encode embeddings\n",
    "model = SentenceTransformer('all-MiniLM-L6-v2')\n",
    "embeddings = model.encode(sentences)\n",
    "\n",
    "# Compute full similarity matrix once\n",
    "sim_matrix = cosine_similarity(embeddings)\n",
    "\n",
    "# Threshold\n",
    "threshold = 0.7\n",
    "\n",
    "# Union-Find / Disjoint Set Union for grouping\n",
    "parent = list(range(n))\n",
    "\n",
    "def find(x):\n",
    "    while parent[x] != x:\n",
    "        parent[x] = parent[parent[x]]  # path compression\n",
    "        x = parent[x]\n",
    "    return x\n",
    "\n",
    "def union(x, y):\n",
    "    root_x, root_y = find(x), find(y)\n",
    "    if root_x != root_y:\n",
    "        parent[root_y] = root_x\n",
    "\n",
    "# Build chunks using pairwise similarity\n",
    "for i in range(n):\n",
    "    for j in range(i + 1, n):\n",
    "        if sim_matrix[i][j] >= threshold:\n",
    "            union(i, j)\n",
    "\n",
    "# Group sentences by root parent\n",
    "from collections import defaultdict\n",
    "\n",
    "clusters = defaultdict(list)\n",
    "for i in range(n):\n",
    "    root = find(i)\n",
    "    clusters[root].append(sentences[i])\n",
    "\n",
    "\n"
   ]
  },
  {
   "cell_type": "code",
   "execution_count": 43,
   "metadata": {
    "execution": {
     "iopub.execute_input": "2025-04-15T17:05:40.240132Z",
     "iopub.status.busy": "2025-04-15T17:05:40.239836Z",
     "iopub.status.idle": "2025-04-15T17:05:40.245037Z",
     "shell.execute_reply": "2025-04-15T17:05:40.244302Z",
     "shell.execute_reply.started": "2025-04-15T17:05:40.240110Z"
    },
    "trusted": true
   },
   "outputs": [
    {
     "data": {
      "text/plain": [
       "259"
      ]
     },
     "execution_count": 43,
     "metadata": {},
     "output_type": "execute_result"
    }
   ],
   "source": [
    "len(clusters)"
   ]
  },
  {
   "cell_type": "code",
   "execution_count": 44,
   "metadata": {
    "execution": {
     "iopub.execute_input": "2025-04-15T17:05:42.717604Z",
     "iopub.status.busy": "2025-04-15T17:05:42.717258Z",
     "iopub.status.idle": "2025-04-15T17:05:42.723070Z",
     "shell.execute_reply": "2025-04-15T17:05:42.722341Z",
     "shell.execute_reply.started": "2025-04-15T17:05:42.717580Z"
    },
    "trusted": true
   },
   "outputs": [
    {
     "data": {
      "text/plain": [
       "0.13894524"
      ]
     },
     "execution_count": 44,
     "metadata": {},
     "output_type": "execute_result"
    }
   ],
   "source": [
    "sim_matrix.mean()"
   ]
  },
  {
   "cell_type": "markdown",
   "metadata": {},
   "source": [
    "## Storing in vectorbase"
   ]
  },
  {
   "cell_type": "code",
   "execution_count": 46,
   "metadata": {
    "execution": {
     "iopub.execute_input": "2025-04-15T17:37:10.737284Z",
     "iopub.status.busy": "2025-04-15T17:37:10.737005Z",
     "iopub.status.idle": "2025-04-15T17:37:15.669525Z",
     "shell.execute_reply": "2025-04-15T17:37:15.668396Z",
     "shell.execute_reply.started": "2025-04-15T17:37:10.737263Z"
    },
    "trusted": true
   },
   "outputs": [
    {
     "name": "stdout",
     "output_type": "stream",
     "text": [
      "Collecting faiss-cpu\n",
      "  Downloading faiss_cpu-1.10.0-cp310-cp310-manylinux_2_28_x86_64.whl.metadata (4.4 kB)\n",
      "Requirement already satisfied: numpy<3.0,>=1.25.0 in /usr/local/lib/python3.10/dist-packages (from faiss-cpu) (1.26.4)\n",
      "Requirement already satisfied: packaging in /usr/local/lib/python3.10/dist-packages (from faiss-cpu) (24.2)\n",
      "Requirement already satisfied: mkl_fft in /usr/local/lib/python3.10/dist-packages (from numpy<3.0,>=1.25.0->faiss-cpu) (1.3.8)\n",
      "Requirement already satisfied: mkl_random in /usr/local/lib/python3.10/dist-packages (from numpy<3.0,>=1.25.0->faiss-cpu) (1.2.4)\n",
      "Requirement already satisfied: mkl_umath in /usr/local/lib/python3.10/dist-packages (from numpy<3.0,>=1.25.0->faiss-cpu) (0.1.1)\n",
      "Requirement already satisfied: mkl in /usr/local/lib/python3.10/dist-packages (from numpy<3.0,>=1.25.0->faiss-cpu) (2025.0.1)\n",
      "Requirement already satisfied: tbb4py in /usr/local/lib/python3.10/dist-packages (from numpy<3.0,>=1.25.0->faiss-cpu) (2022.0.0)\n",
      "Requirement already satisfied: mkl-service in /usr/local/lib/python3.10/dist-packages (from numpy<3.0,>=1.25.0->faiss-cpu) (2.4.1)\n",
      "Requirement already satisfied: intel-openmp>=2024 in /usr/local/lib/python3.10/dist-packages (from mkl->numpy<3.0,>=1.25.0->faiss-cpu) (2024.2.0)\n",
      "Requirement already satisfied: tbb==2022.* in /usr/local/lib/python3.10/dist-packages (from mkl->numpy<3.0,>=1.25.0->faiss-cpu) (2022.0.0)\n",
      "Requirement already satisfied: tcmlib==1.* in /usr/local/lib/python3.10/dist-packages (from tbb==2022.*->mkl->numpy<3.0,>=1.25.0->faiss-cpu) (1.2.0)\n",
      "Requirement already satisfied: intel-cmplr-lib-rt in /usr/local/lib/python3.10/dist-packages (from mkl_umath->numpy<3.0,>=1.25.0->faiss-cpu) (2024.2.0)\n",
      "Requirement already satisfied: intel-cmplr-lib-ur==2024.2.0 in /usr/local/lib/python3.10/dist-packages (from intel-openmp>=2024->mkl->numpy<3.0,>=1.25.0->faiss-cpu) (2024.2.0)\n",
      "Downloading faiss_cpu-1.10.0-cp310-cp310-manylinux_2_28_x86_64.whl (30.7 MB)\n",
      "\u001b[2K   \u001b[90m━━━━━━━━━━━━━━━━━━━━━━━━━━━━━━━━━━━━━━━━\u001b[0m \u001b[32m30.7/30.7 MB\u001b[0m \u001b[31m58.7 MB/s\u001b[0m eta \u001b[36m0:00:00\u001b[0m:00:01\u001b[0m00:01\u001b[0m\n",
      "\u001b[?25hInstalling collected packages: faiss-cpu\n",
      "Successfully installed faiss-cpu-1.10.0\n"
     ]
    }
   ],
   "source": [
    "!pip install faiss-cpu"
   ]
  },
  {
   "cell_type": "code",
   "execution_count": 47,
   "metadata": {
    "execution": {
     "iopub.execute_input": "2025-04-15T17:37:15.671329Z",
     "iopub.status.busy": "2025-04-15T17:37:15.671060Z",
     "iopub.status.idle": "2025-04-15T17:37:15.978691Z",
     "shell.execute_reply": "2025-04-15T17:37:15.977996Z",
     "shell.execute_reply.started": "2025-04-15T17:37:15.671307Z"
    },
    "trusted": true
   },
   "outputs": [
    {
     "data": {
      "application/vnd.jupyter.widget-view+json": {
       "model_id": "767726d141184abaaf3342d94e4321f7",
       "version_major": 2,
       "version_minor": 0
      },
      "text/plain": [
       "Batches:   0%|          | 0/9 [00:00<?, ?it/s]"
      ]
     },
     "metadata": {},
     "output_type": "display_data"
    },
    {
     "name": "stdout",
     "output_type": "stream",
     "text": [
      "Stored 259 chunks in FAISS.\n"
     ]
    }
   ],
   "source": [
    "# import faiss\n",
    "# import nltk\n",
    "# import uuid\n",
    "# # Combine sentences in each cluster to form chunks\n",
    "# chunk_texts = [\" \".join(sents) for sents in clusters.values()]\n",
    "# chunk_embeddings = model.encode(chunk_texts)\n",
    "\n",
    "# # FAISS setup\n",
    "# dimension = chunk_embeddings.shape[1]\n",
    "# index = faiss.IndexFlatL2(dimension)  # or IndexFlatIP for cosine-like behavior\n",
    "# index.add(np.array(chunk_embeddings))\n",
    "\n",
    "# # Store chunk metadata (you can persist this to disk if needed)\n",
    "# chunk_metadata = {\n",
    "#     i: {\"id\": str(uuid.uuid4()), \"text\": chunk_texts[i]}\n",
    "#     for i in range(len(chunk_texts))\n",
    "# }\n",
    "\n",
    "# print(f\"Stored {len(chunk_texts)} chunks in FAISS.\")\n",
    "\n",
    "\n",
    "\n"
   ]
  },
  {
   "cell_type": "code",
   "execution_count": 49,
   "metadata": {
    "execution": {
     "iopub.execute_input": "2025-04-15T17:45:05.038851Z",
     "iopub.status.busy": "2025-04-15T17:45:05.038459Z",
     "iopub.status.idle": "2025-04-15T17:45:05.970475Z",
     "shell.execute_reply": "2025-04-15T17:45:05.969652Z",
     "shell.execute_reply.started": "2025-04-15T17:45:05.038821Z"
    },
    "trusted": true
   },
   "outputs": [
    {
     "name": "stdout",
     "output_type": "stream",
     "text": [
      "[nltk_data] Downloading package punkt to /usr/share/nltk_data...\n",
      "[nltk_data]   Package punkt is already up-to-date!\n"
     ]
    },
    {
     "data": {
      "application/vnd.jupyter.widget-view+json": {
       "model_id": "1e4e007da8b54924a85efee0c0842e7f",
       "version_major": 2,
       "version_minor": 0
      },
      "text/plain": [
       "Batches:   0%|          | 0/9 [00:00<?, ?it/s]"
      ]
     },
     "metadata": {},
     "output_type": "display_data"
    },
    {
     "name": "stdout",
     "output_type": "stream",
     "text": [
      "Stored 262 chunks in FAISS.\n"
     ]
    }
   ],
   "source": [
    "import faiss\n",
    "import nltk\n",
    "import uuid\n",
    "from transformers import AutoTokenizer\n",
    "from sentence_transformers import SentenceTransformer\n",
    "import numpy as np\n",
    "\n",
    "nltk.download('punkt')\n",
    "\n",
    "# Setup\n",
    "model = SentenceTransformer('all-MiniLM-L6-v2')\n",
    "tokenizer = AutoTokenizer.from_pretrained('sentence-transformers/all-MiniLM-L6-v2')\n",
    "\n",
    "def split_large_chunk(text, max_words=256):\n",
    "    words = text.split()\n",
    "    if len(words) <= max_words:\n",
    "        return [text]\n",
    "    \n",
    "    # Split into smaller chunks\n",
    "    return [\n",
    "        \" \".join(words[i:i+max_words])\n",
    "        for i in range(0, len(words), max_words)\n",
    "    ]\n",
    "\n",
    "# Flatten and split clusters\n",
    "chunk_texts = []\n",
    "for sents in clusters.values():\n",
    "    combined_text = \" \".join(sents)\n",
    "    split_chunks = split_large_chunk(combined_text)\n",
    "    chunk_texts.extend(split_chunks)\n",
    "\n",
    "# Embed the final chunks\n",
    "chunk_embeddings = model.encode(chunk_texts)\n",
    "\n",
    "# FAISS setup\n",
    "dimension = chunk_embeddings.shape[1]\n",
    "index = faiss.IndexFlatL2(dimension)\n",
    "index.add(np.array(chunk_embeddings))\n",
    "\n",
    "# Store chunk metadata\n",
    "chunk_metadata = {\n",
    "    i: {\"id\": str(uuid.uuid4()), \"text\": chunk_texts[i]}\n",
    "    for i in range(len(chunk_texts))\n",
    "}\n",
    "\n",
    "print(f\"Stored {len(chunk_texts)} chunks in FAISS.\")\n"
   ]
  },
  {
   "cell_type": "code",
   "execution_count": 50,
   "metadata": {
    "execution": {
     "iopub.execute_input": "2025-04-15T17:46:56.269474Z",
     "iopub.status.busy": "2025-04-15T17:46:56.269131Z",
     "iopub.status.idle": "2025-04-15T17:46:56.274731Z",
     "shell.execute_reply": "2025-04-15T17:46:56.273969Z",
     "shell.execute_reply.started": "2025-04-15T17:46:56.269446Z"
    },
    "trusted": true
   },
   "outputs": [
    {
     "data": {
      "text/plain": [
       "1978"
      ]
     },
     "execution_count": 50,
     "metadata": {},
     "output_type": "execute_result"
    }
   ],
   "source": [
    "len(chunk_texts[0])"
   ]
  },
  {
   "cell_type": "code",
   "execution_count": 51,
   "metadata": {
    "execution": {
     "iopub.execute_input": "2025-04-15T17:47:24.390819Z",
     "iopub.status.busy": "2025-04-15T17:47:24.390521Z",
     "iopub.status.idle": "2025-04-15T17:47:24.395825Z",
     "shell.execute_reply": "2025-04-15T17:47:24.394905Z",
     "shell.execute_reply.started": "2025-04-15T17:47:24.390794Z"
    },
    "trusted": true
   },
   "outputs": [
    {
     "data": {
      "text/plain": [
       "384"
      ]
     },
     "execution_count": 51,
     "metadata": {},
     "output_type": "execute_result"
    }
   ],
   "source": [
    "dimension"
   ]
  },
  {
   "cell_type": "code",
   "execution_count": null,
   "metadata": {
    "trusted": true
   },
   "outputs": [],
   "source": [
    "# # 🔍 Semantic Search Example\n",
    "# query = \"tell me about Miller indices\"\n",
    "# query_embedding = model.encode([query])\n",
    "\n",
    "# top_k = 10\n",
    "# D, I = index.search(np.array(query_embedding), top_k)\n",
    "\n",
    "# for rank, idx in enumerate(I[0]):\n",
    "#     meta = chunk_metadata[idx]\n",
    "#     print(f\"\\n🔹 Match {rank+1} (ID: {meta['id']})\")\n",
    "#     print(f\"📄 Text: {meta['text']}\")\n",
    "#     print(f\"🔢 Distance: {D[0][rank]}\")"
   ]
  },
  {
   "cell_type": "markdown",
   "metadata": {},
   "source": [
    "## Top Chunks related to Query"
   ]
  },
  {
   "cell_type": "code",
   "execution_count": 67,
   "metadata": {
    "execution": {
     "iopub.execute_input": "2025-04-15T19:05:39.077318Z",
     "iopub.status.busy": "2025-04-15T19:05:39.077007Z",
     "iopub.status.idle": "2025-04-15T19:05:39.082468Z",
     "shell.execute_reply": "2025-04-15T19:05:39.081594Z",
     "shell.execute_reply.started": "2025-04-15T19:05:39.077291Z"
    },
    "trusted": true
   },
   "outputs": [],
   "source": [
    "# from sentence_transformers import SentenceTransformer\n",
    "# from sklearn.metrics.pairwise import cosine_similarity\n",
    "# import numpy as np\n",
    "\n",
    "# def get_relevant_chunks(query, threshold=0.7):\n",
    "#     model = SentenceTransformer('all-MiniLM-L6-v2')\n",
    "#     chunk_texts = [\" \".join(sents) for sents in clusters.values()]\n",
    "\n",
    "#     # Encode chunks and query\n",
    "#     chunk_embeddings = model.encode(chunk_texts, convert_to_numpy=True)\n",
    "#     query_embedding = model.encode([query], convert_to_numpy=True)\n",
    "\n",
    "#     # Compute cosine similarities\n",
    "#     similarities = cosine_similarity(query_embedding, chunk_embeddings)[0]\n",
    "    \n",
    "\n",
    "#     # Filter chunks by threshold\n",
    "#     relevant_chunks = [\n",
    "#         chunk_texts[i]\n",
    "#         for i, score in enumerate(similarities)\n",
    "#         if score >= threshold\n",
    "#     ]\n",
    "\n",
    "#     return relevant_chunks ,similarities\n",
    "\n"
   ]
  },
  {
   "cell_type": "code",
   "execution_count": 78,
   "metadata": {
    "execution": {
     "iopub.execute_input": "2025-04-15T19:20:08.503379Z",
     "iopub.status.busy": "2025-04-15T19:20:08.503059Z",
     "iopub.status.idle": "2025-04-15T19:20:08.509633Z",
     "shell.execute_reply": "2025-04-15T19:20:08.508587Z",
     "shell.execute_reply.started": "2025-04-15T19:20:08.503356Z"
    },
    "trusted": true
   },
   "outputs": [],
   "source": [
    "from sentence_transformers import SentenceTransformer\n",
    "from sklearn.metrics.pairwise import cosine_similarity\n",
    "import numpy as np\n",
    "\n",
    "def get_relevant_chunks(query, top_percentile=90):\n",
    "    model = SentenceTransformer('all-MiniLM-L6-v2')\n",
    "    chunk_texts = [\" \".join(sents) for sents in clusters.values()]\n",
    "\n",
    "    # Encode chunks and query\n",
    "    chunk_embeddings = model.encode(chunk_texts, convert_to_numpy=True)\n",
    "    query_embedding = model.encode([query], convert_to_numpy=True)\n",
    "\n",
    "    # Compute cosine similarities\n",
    "    similarities = cosine_similarity(query_embedding, chunk_embeddings)[0]\n",
    "\n",
    "    # Compute dynamic threshold from percentile\n",
    "    threshold = np.percentile(similarities, top_percentile)\n",
    "\n",
    "    # Filter chunks by dynamic threshold\n",
    "    relevant_chunks = [\n",
    "        chunk_texts[i]\n",
    "        for i, score in enumerate(similarities)\n",
    "        if score >= threshold\n",
    "    ]\n",
    "\n",
    "    return relevant_chunks, similarities, threshold\n"
   ]
  },
  {
   "cell_type": "code",
   "execution_count": 79,
   "metadata": {
    "execution": {
     "iopub.execute_input": "2025-04-15T19:20:14.792827Z",
     "iopub.status.busy": "2025-04-15T19:20:14.792540Z",
     "iopub.status.idle": "2025-04-15T19:20:15.921931Z",
     "shell.execute_reply": "2025-04-15T19:20:15.921121Z",
     "shell.execute_reply.started": "2025-04-15T19:20:14.792806Z"
    },
    "trusted": true
   },
   "outputs": [
    {
     "data": {
      "application/vnd.jupyter.widget-view+json": {
       "model_id": "58d137a4706b4ea0af5fb70b54f69e1d",
       "version_major": 2,
       "version_minor": 0
      },
      "text/plain": [
       "Batches:   0%|          | 0/9 [00:00<?, ?it/s]"
      ]
     },
     "metadata": {},
     "output_type": "display_data"
    },
    {
     "data": {
      "application/vnd.jupyter.widget-view+json": {
       "model_id": "5b68b54e9c3c4960bf8f6366e314517e",
       "version_major": 2,
       "version_minor": 0
      },
      "text/plain": [
       "Batches:   0%|          | 0/1 [00:00<?, ?it/s]"
      ]
     },
     "metadata": {},
     "output_type": "display_data"
    }
   ],
   "source": [
    "query =\"What is miller indices? how are they determined for crystal plane?\"\n",
    "\n",
    "c,s,t=get_relevant_chunks(query)"
   ]
  },
  {
   "cell_type": "code",
   "execution_count": null,
   "metadata": {
    "trusted": true
   },
   "outputs": [],
   "source": []
  },
  {
   "cell_type": "code",
   "execution_count": 77,
   "metadata": {
    "execution": {
     "iopub.execute_input": "2025-04-15T19:10:53.152145Z",
     "iopub.status.busy": "2025-04-15T19:10:53.151857Z",
     "iopub.status.idle": "2025-04-15T19:10:53.331142Z",
     "shell.execute_reply": "2025-04-15T19:10:53.330308Z",
     "shell.execute_reply.started": "2025-04-15T19:10:53.152125Z"
    },
    "trusted": true
   },
   "outputs": [
    {
     "data": {
      "text/plain": [
       "(array([ 4., 46., 71., 72., 32., 17., 10.,  3.,  2.,  2.]),\n",
       " array([-0.13964608, -0.06502328,  0.00959952,  0.08422232,  0.15884513,\n",
       "         0.23346792,  0.30809072,  0.38271353,  0.45733634,  0.53195912,\n",
       "         0.60658193]),\n",
       " <BarContainer object of 10 artists>)"
      ]
     },
     "execution_count": 77,
     "metadata": {},
     "output_type": "execute_result"
    },
    {
     "data": {
      "image/png": "[encoded data removed]",
      "text/plain": [
       "<Figure size 640x480 with 1 Axes>"
      ]
     },
     "metadata": {},
     "output_type": "display_data"
    }
   ],
   "source": [
    "import matplotlib.pyplot as plt\n",
    "import seaborn as sns\n",
    "plt.hist(sim)"
   ]
  },
  {
   "cell_type": "code",
   "execution_count": 54,
   "metadata": {
    "execution": {
     "iopub.execute_input": "2025-04-15T17:47:59.202376Z",
     "iopub.status.busy": "2025-04-15T17:47:59.202043Z",
     "iopub.status.idle": "2025-04-15T17:47:59.205846Z",
     "shell.execute_reply": "2025-04-15T17:47:59.205013Z",
     "shell.execute_reply.started": "2025-04-15T17:47:59.202346Z"
    },
    "trusted": true
   },
   "outputs": [],
   "source": [
    "\n",
    "# def get_top_k_chunks(query, top_k=10):\n",
    "#     model = SentenceTransformer('all-MiniLM-L6-v2')\n",
    "#     chunk_texts = [\" \".join(sents) for sents in clusters.values()]\n",
    "#     chunk_embeddings = model.encode(chunk_texts)\n",
    "#     # FAISS setup\n",
    "#     dimension = chunk_embeddings.shape[1]\n",
    "#     faiss_index = faiss.IndexFlatL2(dimension)  # or IndexFlatIP for cosine-like behavior\n",
    "#     faiss_index.add(np.array(chunk_embeddings))\n",
    "\n",
    "#     query_embedding = model.encode([query])\n",
    "#     D, I = faiss_index.search(np.array(query_embedding), top_k)\n",
    "#     return [chunk_texts[i] for i in I[0]]"
   ]
  },
  {
   "cell_type": "markdown",
   "metadata": {},
   "source": [
    "## Loading LLM"
   ]
  },
  {
   "cell_type": "code",
   "execution_count": 56,
   "metadata": {
    "execution": {
     "iopub.execute_input": "2025-04-15T17:48:13.441120Z",
     "iopub.status.busy": "2025-04-15T17:48:13.440791Z",
     "iopub.status.idle": "2025-04-15T17:50:10.376849Z",
     "shell.execute_reply": "2025-04-15T17:50:10.375908Z",
     "shell.execute_reply.started": "2025-04-15T17:48:13.441096Z"
    },
    "trusted": true
   },
   "outputs": [
    {
     "data": {
      "application/vnd.jupyter.widget-view+json": {
       "model_id": "3ed1c239c7704bbca8706facd7ceacee",
       "version_major": 2,
       "version_minor": 0
      },
      "text/plain": [
       "tokenizer_config.json:   0%|          | 0.00/141k [00:00<?, ?B/s]"
      ]
     },
     "metadata": {},
     "output_type": "display_data"
    },
    {
     "data": {
      "application/vnd.jupyter.widget-view+json": {
       "model_id": "a95065d9ce064f2db22ba3351c5dec68",
       "version_major": 2,
       "version_minor": 0
      },
      "text/plain": [
       "tokenizer.model:   0%|          | 0.00/587k [00:00<?, ?B/s]"
      ]
     },
     "metadata": {},
     "output_type": "display_data"
    },
    {
     "data": {
      "application/vnd.jupyter.widget-view+json": {
       "model_id": "4f08c6c9f8da4ad79cf76774a19718f3",
       "version_major": 2,
       "version_minor": 0
      },
      "text/plain": [
       "tokenizer.json:   0%|          | 0.00/1.96M [00:00<?, ?B/s]"
      ]
     },
     "metadata": {},
     "output_type": "display_data"
    },
    {
     "data": {
      "application/vnd.jupyter.widget-view+json": {
       "model_id": "5aa9b407fd6543dcbd6858cf2cb8ee14",
       "version_major": 2,
       "version_minor": 0
      },
      "text/plain": [
       "special_tokens_map.json:   0%|          | 0.00/414 [00:00<?, ?B/s]"
      ]
     },
     "metadata": {},
     "output_type": "display_data"
    },
    {
     "data": {
      "application/vnd.jupyter.widget-view+json": {
       "model_id": "fa537525250848c4a2de9687e789b7bc",
       "version_major": 2,
       "version_minor": 0
      },
      "text/plain": [
       "config.json:   0%|          | 0.00/601 [00:00<?, ?B/s]"
      ]
     },
     "metadata": {},
     "output_type": "display_data"
    },
    {
     "data": {
      "application/vnd.jupyter.widget-view+json": {
       "model_id": "2d3df8599b28412498926fd8744ace9e",
       "version_major": 2,
       "version_minor": 0
      },
      "text/plain": [
       "model.safetensors.index.json:   0%|          | 0.00/23.9k [00:00<?, ?B/s]"
      ]
     },
     "metadata": {},
     "output_type": "display_data"
    },
    {
     "data": {
      "application/vnd.jupyter.widget-view+json": {
       "model_id": "1121081da58c42e3a0967f8f4a440eed",
       "version_major": 2,
       "version_minor": 0
      },
      "text/plain": [
       "Downloading shards:   0%|          | 0/3 [00:00<?, ?it/s]"
      ]
     },
     "metadata": {},
     "output_type": "display_data"
    },
    {
     "data": {
      "application/vnd.jupyter.widget-view+json": {
       "model_id": "e8643eed72774d9e996ab2cbf51c45c9",
       "version_major": 2,
       "version_minor": 0
      },
      "text/plain": [
       "model-00001-of-00003.safetensors:   0%|          | 0.00/4.95G [00:00<?, ?B/s]"
      ]
     },
     "metadata": {},
     "output_type": "display_data"
    },
    {
     "data": {
      "application/vnd.jupyter.widget-view+json": {
       "model_id": "0825f6078b2547b1b8e7fa6823d8034b",
       "version_major": 2,
       "version_minor": 0
      },
      "text/plain": [
       "model-00002-of-00003.safetensors:   0%|          | 0.00/5.00G [00:00<?, ?B/s]"
      ]
     },
     "metadata": {},
     "output_type": "display_data"
    },
    {
     "data": {
      "application/vnd.jupyter.widget-view+json": {
       "model_id": "4b1fb82b18d0477e8ac373e584de24a3",
       "version_major": 2,
       "version_minor": 0
      },
      "text/plain": [
       "model-00003-of-00003.safetensors:   0%|          | 0.00/4.55G [00:00<?, ?B/s]"
      ]
     },
     "metadata": {},
     "output_type": "display_data"
    },
    {
     "data": {
      "application/vnd.jupyter.widget-view+json": {
       "model_id": "dfe5be45054e4a1b8da14404fa1968b0",
       "version_major": 2,
       "version_minor": 0
      },
      "text/plain": [
       "Loading checkpoint shards:   0%|          | 0/3 [00:00<?, ?it/s]"
      ]
     },
     "metadata": {},
     "output_type": "display_data"
    },
    {
     "data": {
      "application/vnd.jupyter.widget-view+json": {
       "model_id": "7ee1b5b9ed284a439fd71e03b9f61ded",
       "version_major": 2,
       "version_minor": 0
      },
      "text/plain": [
       "generation_config.json:   0%|          | 0.00/116 [00:00<?, ?B/s]"
      ]
     },
     "metadata": {},
     "output_type": "display_data"
    }
   ],
   "source": [
    "from transformers import AutoModelForCausalLM, AutoTokenizer\n",
    "import torch\n",
    "\n",
    "# Load the Mistral model & tokenizer\n",
    "model_name = \"mistralai/Mistral-7B-Instruct-v0.3\"  # Replace with any open-access model\n",
    "tokenizer = AutoTokenizer.from_pretrained(model_name)\n",
    "\n",
    "llm_mistral = AutoModelForCausalLM.from_pretrained(\n",
    "    model_name, torch_dtype=torch.float16, device_map=\"auto\"\n",
    ")"
   ]
  },
  {
   "cell_type": "code",
   "execution_count": 29,
   "metadata": {
    "execution": {
     "iopub.execute_input": "2025-04-13T17:43:16.384563Z",
     "iopub.status.busy": "2025-04-13T17:43:16.384224Z",
     "iopub.status.idle": "2025-04-13T17:43:16.388033Z",
     "shell.execute_reply": "2025-04-13T17:43:16.387202Z",
     "shell.execute_reply.started": "2025-04-13T17:43:16.384537Z"
    },
    "trusted": true
   },
   "outputs": [],
   "source": [
    "# from transformers import AutoModelForCausalLM, AutoTokenizer\n",
    "# import torch\n",
    "\n",
    "# model_id = \"google/gemma-7b-it\"\n",
    "\n",
    "# # Load tokenizer\n",
    "# tokenizer = AutoTokenizer.from_pretrained(model_id)\n",
    "\n",
    "# # Load model in 4-bit quantization (needs bitsandbytes)\n",
    "# model_gemma = AutoModelForCausalLM.from_pretrained(\n",
    "#     model_id,\n",
    "#     device_map=\"auto\",              # Automatically assigns layers to GPU\n",
    "#     torch_dtype=torch.float16,      # Or use bfloat16 if Colab supports\n",
    "#     load_in_4bit=True               # Enables low-memory mode\n",
    "# )\n"
   ]
  },
  {
   "cell_type": "markdown",
   "metadata": {},
   "source": [
    "## Generating  Response"
   ]
  },
  {
   "cell_type": "code",
   "execution_count": 60,
   "metadata": {
    "execution": {
     "iopub.execute_input": "2025-04-15T17:55:32.741779Z",
     "iopub.status.busy": "2025-04-15T17:55:32.741388Z",
     "iopub.status.idle": "2025-04-15T17:55:32.747824Z",
     "shell.execute_reply": "2025-04-15T17:55:32.746923Z",
     "shell.execute_reply.started": "2025-04-15T17:55:32.741742Z"
    },
    "trusted": true
   },
   "outputs": [],
   "source": [
    "def generate_response_mistral2(query, retrieved_chunks):\n",
    "    \"\"\"Use Mistral-7B to generate responses based on retrieved chunks.\"\"\"\n",
    "    context = \"\\n\\n\".join(retrieved_chunks)\n",
    "    prompt = prompt = f\"\"\"\n",
    "### Context:\n",
    "{context}\n",
    "\n",
    "### Task:\n",
    "You are an intelligent assistant with a strong grasp of theoretical concepts, mathematical equations, and technical reasoning. Based on the following question, determine the most suitable response format dynamically. The response should be clear, structured, and tailored to the intent of the question.\n",
    "\n",
    "Question: {query}\n",
    "\n",
    "### Instructions:\n",
    "- If the question is asking for a concept explanation, give a well-structured breakdown (definitions, key ideas, examples).\n",
    "- If the question involves a comparison (e.g., \"difference between\", \"compare X and Y\"), use a Markdown table.\n",
    "- If the question is about a formula or equation, explain each term, the full equation, and how it works in practice.\n",
    "- If the question is something else (e.g., use case, how-to, reasoning), adapt the format accordingly for clarity.\n",
    "\n",
    "Use formatting (like headers, lists, bullet points, or tables) **only if it enhances understanding**. Don't follow a fixed template—**use your judgment to present the best possible structured answer** for the given question.\n",
    "\n",
    "### Response:\n",
    "\"\"\"\n",
    "\n",
    "\n",
    "    inputs = tokenizer(prompt, return_tensors=\"pt\").to(\"cuda\")\n",
    "    with torch.no_grad():\n",
    "        outputs = llm_mistral.generate(\n",
    "            **inputs,\n",
    "            max_new_tokens=1000,\n",
    "            do_sample=True,\n",
    "            temperature=0.7,\n",
    "            top_k=50,\n",
    "            top_p=0.95\n",
    "        )\n",
    "    return tokenizer.decode(outputs[0], skip_special_tokens=True).replace(prompt, \"\").strip()"
   ]
  },
  {
   "cell_type": "code",
   "execution_count": 83,
   "metadata": {
    "execution": {
     "iopub.execute_input": "2025-04-15T19:21:51.311243Z",
     "iopub.status.busy": "2025-04-15T19:21:51.310945Z",
     "iopub.status.idle": "2025-04-15T19:22:53.791031Z",
     "shell.execute_reply": "2025-04-15T19:22:53.790094Z",
     "shell.execute_reply.started": "2025-04-15T19:21:51.311222Z"
    },
    "trusted": true
   },
   "outputs": [
    {
     "data": {
      "application/vnd.jupyter.widget-view+json": {
       "model_id": "0337bca4ea4a49048f9a78c35a97fd21",
       "version_major": 2,
       "version_minor": 0
      },
      "text/plain": [
       "Batches:   0%|          | 0/9 [00:00<?, ?it/s]"
      ]
     },
     "metadata": {},
     "output_type": "display_data"
    },
    {
     "data": {
      "application/vnd.jupyter.widget-view+json": {
       "model_id": "6dc5ed5e55ea4487834dc8b2f4d369fa",
       "version_major": 2,
       "version_minor": 0
      },
      "text/plain": [
       "Batches:   0%|          | 0/1 [00:00<?, ?it/s]"
      ]
     },
     "metadata": {},
     "output_type": "display_data"
    },
    {
     "name": "stderr",
     "output_type": "stream",
     "text": [
      "Setting `pad_token_id` to `eos_token_id`:2 for open-end generation.\n"
     ]
    },
    {
     "name": "stdout",
     "output_type": "stream",
     "text": [
      "**Miller Indices**\n",
      "\n",
      "Miller indices, named after the crystallographer William H. Miller, are a method for identifying crystal planes and directions in a crystal lattice. This system allows for the specification of planes and directions using integer values instead of fractions or other ratios.\n",
      "\n",
      "**Determining Miller Indices for Crystal Planes**\n",
      "\n",
      "To determine the Miller indices of a crystal plane, follow these steps:\n",
      "\n",
      "1. Find the intercepts of the plane with the three crystal axes (a, b, and c) in fractional units.\n",
      "2. Take the reciprocal of each intercept and change the sign if the intercept is negative.\n",
      "3. Write the smallest set of three integers that represent the reciprocals.\n",
      "\n",
      "**Example**\n",
      "\n",
      "For the plane that intersects the axes at the points (1/2, 1/3, 2/4), the Miller indices are determined as follows:\n",
      "\n",
      "1. Intercepts: (1/2, 1/3, 1/2)\n",
      "2. Reciprocals: (2, 3, 2)\n",
      "3. Smallest set of integers: 2, 3, 2\n",
      "\n",
      "The Miller indices of this plane are then 232.\n",
      "\n",
      "This system allows for easy identification and comparison of different crystal planes, making it a powerful tool in the study of crystallography.\n",
      "\n",
      "**Comparison of 3-Indexing and 4-Indexing Systems**\n",
      "\n",
      "| 3-Indexing System | 4-Indexing System |\n",
      "| --- | --- |\n",
      "| Represents the intercepts of a plane with three crystal axes (a, b, c) | Represents the intercepts of a plane with four crystal axes (a, b, c, and the fourth axis normal to the plane) |\n",
      "| Uses three integers to represent the reciprocals of the intercepts | Uses four integers to represent the reciprocals of the intercepts |\n",
      "| Uses the same indexing for planes that are parallel | Distinguishes between planes that are parallel but not identical by their indexing |\n",
      "\n",
      "**Example**\n",
      "\n",
      "For the plane that intersects the axes at the points (1, 0, 1) and (0, 1, 1), the 3-indexing system gives the same indexes for both planes (101). However, in the 4-indexing system, these planes would have different indexes (1010 and 0110, respectively).\n",
      "\n",
      "**Using Miller Indices in Practice**\n",
      "\n",
      "Miller indices can help identify the planes and directions of interest in a crystal structure, which is crucial for understanding the properties of materials and designing experiments. By knowing the indices of a specific plane, one can predict its orientation, distance between atoms, and even the type of bonds that exist between them.\n",
      "\n",
      "In addition, Miller indices are used in the calculation of diffraction patterns, which are important for analyzing the structure of crystals and determining their composition.\n",
      "\n",
      "By understanding and applying Miller indices, researchers and engineers can gain valuable insights into the behavior of crystalline materials, leading to advancements in fields such as electronics, optics, and materials science.\n"
     ]
    }
   ],
   "source": [
    "query =\"What is miller indices? how are they determined for crystal plane?\"\n",
    "\n",
    "retrieved_chunks,s,t = get_relevant_chunks(query)\n",
    "final_response = generate_response_mistral2(query, retrieved_chunks)\n",
    "print(final_response)"
   ]
  },
  {
   "cell_type": "code",
   "execution_count": 84,
   "metadata": {
    "execution": {
     "iopub.execute_input": "2025-04-15T19:24:32.793197Z",
     "iopub.status.busy": "2025-04-15T19:24:32.792829Z",
     "iopub.status.idle": "2025-04-15T19:25:06.837748Z",
     "shell.execute_reply": "2025-04-15T19:25:06.836699Z",
     "shell.execute_reply.started": "2025-04-15T19:24:32.793166Z"
    },
    "trusted": true
   },
   "outputs": [
    {
     "data": {
      "application/vnd.jupyter.widget-view+json": {
       "model_id": "eb27b5279ca54c77a4e6d5270a4f683c",
       "version_major": 2,
       "version_minor": 0
      },
      "text/plain": [
       "Batches:   0%|          | 0/9 [00:00<?, ?it/s]"
      ]
     },
     "metadata": {},
     "output_type": "display_data"
    },
    {
     "data": {
      "application/vnd.jupyter.widget-view+json": {
       "model_id": "6ae95f5a0e2840ddb9cebb2636754ac8",
       "version_major": 2,
       "version_minor": 0
      },
      "text/plain": [
       "Batches:   0%|          | 0/1 [00:00<?, ?it/s]"
      ]
     },
     "metadata": {},
     "output_type": "display_data"
    },
    {
     "name": "stderr",
     "output_type": "stream",
     "text": [
      "Setting `pad_token_id` to `eos_token_id`:2 for open-end generation.\n"
     ]
    },
    {
     "name": "stdout",
     "output_type": "stream",
     "text": [
      "To find the Miller indices for a plane in a cubic crystal, we can follow the steps below:\n",
      "\n",
      "1. **Identify the Intercepts:**\n",
      "   - Determine the intercepts of the plane with the three main crystal axes (x, y, z). These intercepts are usually denoted as a, b, c, where a, b, and c are the distances from the plane to the respective axes.\n",
      "\n",
      "2. **Normalize the Intercepts:**\n",
      "   - Normalize the intercepts by dividing each one by the smallest non-zero intercept value.\n",
      "\n",
      "3. **Find the Reciprocal Values:**\n",
      "   - Take the reciprocal values of the normalized intercepts. These reciprocal values are the Miller indices (h, k, l).\n",
      "\n",
      "4. **Check the Sign:**\n",
      "   - If the original intercepts had negative values, the corresponding Miller indices will have a negative sign.\n",
      "\n",
      "Here's an example:\n",
      "\n",
      "Suppose we have a plane that intersects the x, y, and z axes at distances 4, 3, and 2 units, respectively.\n",
      "\n",
      "1. **Identify the Intercepts:**\n",
      "   - a = 4, b = 3, c = 2\n",
      "\n",
      "2. **Normalize the Intercepts:**\n",
      "   - a' = 4 / 2 = 2, b' = 3 / 2 = 1.5, c' = 1\n",
      "\n",
      "3. **Find the Reciprocal Values:**\n",
      "   - h = 1 / 2 = 0.5, k = 1 / 1.5 ≈ 0.667, l = 1\n",
      "\n",
      "4. **Check the Sign:**\n",
      "   - Since the original intercepts have positive values, the Miller indices (h, k, l) will be positive.\n",
      "\n",
      "So, the Miller indices for the given plane are (0.5, 0.667, 1).\n"
     ]
    }
   ],
   "source": [
    "query =\"Describe the steps to find the Miller indices for a plane in a cubic crystal.\"\n",
    "\n",
    "retrieved_chunks,s,t = get_relevant_chunks(query)\n",
    "final_response = generate_response_mistral2(query, retrieved_chunks)\n",
    "print(final_response)"
   ]
  },
  {
   "cell_type": "code",
   "execution_count": 85,
   "metadata": {
    "execution": {
     "iopub.execute_input": "2025-04-15T19:31:20.818898Z",
     "iopub.status.busy": "2025-04-15T19:31:20.818490Z",
     "iopub.status.idle": "2025-04-15T19:31:55.242810Z",
     "shell.execute_reply": "2025-04-15T19:31:55.242029Z",
     "shell.execute_reply.started": "2025-04-15T19:31:20.818869Z"
    },
    "trusted": true
   },
   "outputs": [
    {
     "data": {
      "application/vnd.jupyter.widget-view+json": {
       "model_id": "533737d6c73d48c6b0e3d2f1a04c8043",
       "version_major": 2,
       "version_minor": 0
      },
      "text/plain": [
       "Batches:   0%|          | 0/9 [00:00<?, ?it/s]"
      ]
     },
     "metadata": {},
     "output_type": "display_data"
    },
    {
     "data": {
      "application/vnd.jupyter.widget-view+json": {
       "model_id": "f4d9b753cc114bfcaa1c0bf88e326940",
       "version_major": 2,
       "version_minor": 0
      },
      "text/plain": [
       "Batches:   0%|          | 0/1 [00:00<?, ?it/s]"
      ]
     },
     "metadata": {},
     "output_type": "display_data"
    },
    {
     "name": "stderr",
     "output_type": "stream",
     "text": [
      "Setting `pad_token_id` to `eos_token_id`:2 for open-end generation.\n"
     ]
    },
    {
     "name": "stdout",
     "output_type": "stream",
     "text": [
      "**Why do equivalent planes have the same properties in a crystal?**\n",
      "\n",
      "Equivalent planes in a crystal share the same properties because they have the same arrangement of atoms or molecules, resulting in similar bonding, electronic structures, and physical characteristics. This is due to the periodic nature of the lattice structure, where the atoms or molecules repeat in a pattern that gives rise to the formation of planes.\n",
      "\n",
      "**How are such planes represented?**\n",
      "\n",
      "In crystallography, planes are represented using the Miller indices (hkl) system. The indices are determined by finding the intercepts of the plane with the three crystal axes (a, b, c) and their reciprocals. The indices for a plane are given as hkl, where h, k, and l are integers that represent the distances of the intercepts along the a, b, and c axes, respectively.\n",
      "\n",
      "The Miller indices system helps to simplify the representation of planes and allows for easy identification of families of planes with similar properties. For example, in a cubic crystal, planes with the same Miller indices (hkl) have the same crystal structure and properties.\n",
      "\n",
      "Here is a simple table comparing the representation of planes and directions in a crystal:\n",
      "\n",
      "| Planes | Directions |\n",
      "| --- | --- |\n",
      "| Represented by Miller indices (hkl) | Represented by Miller indices (uvw) |\n",
      "| Planes are four-index system | Directions are three-index system |\n",
      "| Planes are perpendicular to the crystallographic directions | Directions lie along the crystallographic axes |\n",
      "| Equivalent planes have the same Miller indices | Equivalent directions have different Miller indices |\n",
      "\n",
      "The Miller indices system can be used to identify and compare various planes and directions in different crystallographic systems, such as the cubic and hexagonal systems mentioned in the original text. Understanding this system is crucial in understanding the properties and behavior of crystals and their applications in various fields, such as physics, materials science, and engineering.\n"
     ]
    }
   ],
   "source": [
    "query =\"Why do equivalent planes have the same properties in a crystal? How are such planes represented?\"\n",
    "\n",
    "retrieved_chunks,s,t = get_relevant_chunks(query)\n",
    "final_response = generate_response_mistral2(query, retrieved_chunks)\n",
    "print(final_response)"
   ]
  },
  {
   "cell_type": "code",
   "execution_count": 86,
   "metadata": {
    "execution": {
     "iopub.execute_input": "2025-04-15T19:33:17.923461Z",
     "iopub.status.busy": "2025-04-15T19:33:17.923165Z",
     "iopub.status.idle": "2025-04-15T19:34:27.794923Z",
     "shell.execute_reply": "2025-04-15T19:34:27.793790Z",
     "shell.execute_reply.started": "2025-04-15T19:33:17.923438Z"
    },
    "trusted": true
   },
   "outputs": [
    {
     "data": {
      "application/vnd.jupyter.widget-view+json": {
       "model_id": "d04f546c79e448b08e87ac1e2a8fcbf4",
       "version_major": 2,
       "version_minor": 0
      },
      "text/plain": [
       "Batches:   0%|          | 0/9 [00:00<?, ?it/s]"
      ]
     },
     "metadata": {},
     "output_type": "display_data"
    },
    {
     "data": {
      "application/vnd.jupyter.widget-view+json": {
       "model_id": "95d74495e64844129e6e18700a7c64a7",
       "version_major": 2,
       "version_minor": 0
      },
      "text/plain": [
       "Batches:   0%|          | 0/1 [00:00<?, ?it/s]"
      ]
     },
     "metadata": {},
     "output_type": "display_data"
    },
    {
     "name": "stderr",
     "output_type": "stream",
     "text": [
      "Setting `pad_token_id` to `eos_token_id`:2 for open-end generation.\n"
     ]
    },
    {
     "name": "stdout",
     "output_type": "stream",
     "text": [
      "**Challenges associated with tool wear and burr formation in micro machining**\n",
      "\n",
      "In micro machining, the challenges associated with tool wear and burr formation are significant due to the small dimensions and high precision requirements of the parts being machined.\n",
      "\n",
      "1. **Tool wear**: Tool wear in micro machining is more severe than in conventional machining because of the increased contact area between the tool and the workpiece, and the smaller dimensions of the tool. Tool wear can lead to an increase in machining forces, errors in part dimensions, and reduced tool life.\n",
      "\n",
      "   - **Adhesive wear**: This type of wear occurs when the tool and workpiece materials adhere to each other due to high contact pressures. This leads to material transfer from the workpiece to the tool, which can affect the tool's cutting edge and reduce its effectiveness.\n",
      "   - **Abrasion wear**: This type of wear is caused by the erosion of the tool material due to the presence of hard particles in the workpiece or cutting fluid. This can lead to a blunting of the tool's cutting edge and an increase in tool wear.\n",
      "\n",
      "2. **Burr formation**: Burrs are small protrusions that form on the edges of the machined part due to the deformation of the material during the machining process. In micro machining, burrs can be particularly problematic due to the small dimensions of the parts and the need for high precision. Burrs can interfere with the assembly of the parts, and they can also cause stress concentrations that can lead to part failure.\n",
      "\n",
      "**Strategies or technologies to mitigate tool wear and burr formation**\n",
      "\n",
      "1. **Use of hard and wear-resistant materials**: Tools made from hard and wear-resistant materials, such as diamond or cubic boron nitride, can reduce tool wear and improve tool life. These materials have a higher resistance to adhesive and abrasive wear than conventional tool materials.\n",
      "2. **Use of lubricants**: Lubricants can reduce tool wear by reducing the friction between the tool and the workpiece, and by preventing the adhesion of workpiece material to the tool.\n",
      "3. **Use of ultrasonic vibration**: Ultrasonic vibration can be used to improve the cutting efficiency and reduce tool wear by increasing the rate of material removal. This is because the high-frequency vibration can help to break up the workpiece material and reduce the contact area between the tool and the workpiece.\n",
      "4. **Use of laser-assisted machining**: Laser-assisted machining can be used to reduce tool wear and burr formation by melting the workpiece material and reducing the contact area between the tool and the workpiece. This can also improve the quality of the machined surface by reducing the amount of heat generated during the machining process.\n",
      "5. **Use of micro-grinding**: Micro-grinding can be used to remove burrs and improve the surface finish of the machined part. This process involves the use of a small grinding wheel or abrasive particle to remove the burrs and improve the surface finish.\n",
      "6. **Use of post-processing techniques**: Post-processing techniques, such as electropolishing or chemical etching, can be used to remove burrs and improve the surface finish of the machined part. These techniques can be particularly useful for parts that require a high level of precision and a smooth surface finish.\n"
     ]
    }
   ],
   "source": [
    "query =\"Discuss the challenges associated with tool wear and burr formation in micro machining. What strategies or technologies are used to mitigate these issues?\"\n",
    "\n",
    "retrieved_chunks,s,t = get_relevant_chunks(query)\n",
    "final_response = generate_response_mistral2(query, retrieved_chunks)\n",
    "print(final_response)"
   ]
  },
  {
   "cell_type": "code",
   "execution_count": 87,
   "metadata": {
    "execution": {
     "iopub.execute_input": "2025-04-15T19:35:40.082608Z",
     "iopub.status.busy": "2025-04-15T19:35:40.082215Z",
     "iopub.status.idle": "2025-04-15T19:36:39.792242Z",
     "shell.execute_reply": "2025-04-15T19:36:39.791327Z",
     "shell.execute_reply.started": "2025-04-15T19:35:40.082576Z"
    },
    "trusted": true
   },
   "outputs": [
    {
     "data": {
      "application/vnd.jupyter.widget-view+json": {
       "model_id": "cc8bfd412ddc47f3b6c44dde6aeb4ee7",
       "version_major": 2,
       "version_minor": 0
      },
      "text/plain": [
       "Batches:   0%|          | 0/9 [00:00<?, ?it/s]"
      ]
     },
     "metadata": {},
     "output_type": "display_data"
    },
    {
     "data": {
      "application/vnd.jupyter.widget-view+json": {
       "model_id": "76e24b9de7aa4fa397ebe2015e8475f0",
       "version_major": 2,
       "version_minor": 0
      },
      "text/plain": [
       "Batches:   0%|          | 0/1 [00:00<?, ?it/s]"
      ]
     },
     "metadata": {},
     "output_type": "display_data"
    },
    {
     "name": "stderr",
     "output_type": "stream",
     "text": [
      "Setting `pad_token_id` to `eos_token_id`:2 for open-end generation.\n"
     ]
    },
    {
     "name": "stdout",
     "output_type": "stream",
     "text": [
      "**Comparison of Micro-EDM and Micro Milling in Fabricating Micro Features in Hard Materials**\n",
      "\n",
      "**Applications**\n",
      "\n",
      "| **Micro-EDM** | **Micro Milling** |\n",
      "| --- | --- |\n",
      "| Micro-EDM is primarily used for the machining of hard, brittle, and electrically conductive materials. It is often used in the production of micro-electromechanical systems (MEMS), micro-molds, and micro-components for the electronics industry. | Micro Milling is used for the machining of a wide range of materials, including metals, plastics, and ceramics. It is often used in the production of micro-molds, micro-components, and micro-parts for various industries, such as automotive, aerospace, and medical. |\n",
      "\n",
      "**Advantages**\n",
      "\n",
      "| **Micro-EDM** | **Micro Milling** |\n",
      "| --- | --- |\n",
      "| Micro-EDM can machine hard, brittle, and electrically conductive materials that are difficult to machine using other methods. It allows for high precision and smooth surfaces, even on complex geometries. It can also machine materials without the need for a cutting tool, reducing tool wear and the risk of damage to the workpiece. | Micro Milling offers high precision, smooth surfaces, and the ability to machine a wide range of materials. It is a faster process compared to Micro-EDM, and it can machine larger volumes. It also allows for the use of a variety of cutting tools, each with its own advantages. |\n",
      "\n",
      "**Limitations**\n",
      "\n",
      "| **Micro-EDM** | **Micro Milling** |\n",
      "| --- | --- |\n",
      "| Micro-EDM has limitations in terms of the size of the components that can be machined, as the process generates a lot of heat and debris. It is also a slower process compared to Micro Milling, and it can be expensive due to the need for expensive electrodes and cooling fluids. | Micro Milling can wear out cutting tools quickly, particularly when machining hard materials. It also has limitations in terms of the size of the components that can be machined, as the size of the tool limits the size of the feature that can be machined. It can also produce burrs on the workpiece, which may require additional finishing operations. |\n",
      "\n",
      "**Summary**\n",
      "\n",
      "Both Micro-EDM and Micro Milling are important micro machining techniques for fabricating micro features in hard materials. Micro-EDM is particularly useful for machining hard, brittle, and electrically conductive materials, while Micro Milling is a more versatile process that can machine a wide range of materials. Both processes have their advantages and limitations, and the choice between them depends on the specific requirements of the application.\n"
     ]
    }
   ],
   "source": [
    "query =\"Micro Electric Discharge Machining (Micro-EDM) and Micro Milling are two common micro machining techniques. Compare their applications, advantages, and limitations, particularly in the context of fabricating micro features in hard materials.\"\n",
    "\n",
    "retrieved_chunks,s,t = get_relevant_chunks(query)\n",
    "final_response = generate_response_mistral2(query, retrieved_chunks)\n",
    "print(final_response)"
   ]
  }
 ],
 "metadata": {
  "kaggle": {
   "accelerator": "nvidiaTeslaT4",
   "dataSources": [
    {
     "datasetId": 7086941,
     "sourceId": 11329292,
     "sourceType": "datasetVersion"
    },
    {
     "datasetId": 7087453,
     "sourceId": 11330150,
     "sourceType": "datasetVersion"
    },
    {
     "datasetId": 7122117,
     "sourceId": 11375994,
     "sourceType": "datasetVersion"
    },
    {
     "datasetId": 7130318,
     "sourceId": 11386764,
     "sourceType": "datasetVersion"
    },
    {
     "datasetId": 7134391,
     "sourceId": 11392002,
     "sourceType": "datasetVersion"
    },
    {
     "datasetId": 7134453,
     "sourceId": 11392079,
     "sourceType": "datasetVersion"
    }
   ],
   "dockerImageVersionId": 30919,
   "isGpuEnabled": true,
   "isInternetEnabled": true,
   "language": "python",
   "sourceType": "notebook"
  },
  "kernelspec": {
   "display_name": "Python 3",
   "language": "python",
   "name": "python3"
  },
  "language_info": {
   "codemirror_mode": {
    "name": "ipython",
    "version": 3
   },
   "file_extension": ".py",
   "mimetype": "text/x-python",
   "name": "python",
   "nbconvert_exporter": "python",
   "pygments_lexer": "ipython3",
   "version": "3.10.12"
  }
 },
 "nbformat": 4,
 "nbformat_minor": 4
}
